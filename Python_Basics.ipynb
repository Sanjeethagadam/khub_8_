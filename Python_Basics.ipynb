{
  "nbformat": 4,
  "nbformat_minor": 0,
  "metadata": {
    "colab": {
      "provenance": [],
      "authorship_tag": "ABX9TyPjOo2TvH6HIimUu2RcTgLt",
      "include_colab_link": true
    },
    "kernelspec": {
      "name": "python3",
      "display_name": "Python 3"
    },
    "language_info": {
      "name": "python"
    }
  },
  "cells": [
    {
      "cell_type": "markdown",
      "metadata": {
        "id": "view-in-github",
        "colab_type": "text"
      },
      "source": [
        "<a href=\"https://colab.research.google.com/github/Sanjeethagadam/khub_8_/blob/main/Python_Basics.ipynb\" target=\"_parent\"><img src=\"https://colab.research.google.com/assets/colab-badge.svg\" alt=\"Open In Colab\"/></a>"
      ]
    },
    {
      "cell_type": "markdown",
      "source": [
        "**STRINGS**"
      ],
      "metadata": {
        "id": "8SE8bWzNUBVG"
      }
    },
    {
      "cell_type": "markdown",
      "source": [
        "A string is a sequence of characters enclosed in quotes. It is used to store text data.\n",
        "You can use single (' '), double (\" \"), or triple (''' ''' or \"\"\" \"\"\") quotes to define a string.\n"
      ],
      "metadata": {
        "id": "baLNKUzfYE2i"
      }
    },
    {
      "cell_type": "code",
      "execution_count": null,
      "metadata": {
        "id": "Vb5iwer5J4PB",
        "colab": {
          "base_uri": "https://localhost:8080/"
        },
        "outputId": "fde9d135-8e30-4580-9dd0-cb89e2e64833"
      },
      "outputs": [
        {
          "output_type": "stream",
          "name": "stdout",
          "text": [
            "Hii i am sanjeetha from team eight\n",
            "This is my first task in khub\n",
            "it is about python basiscs on strings\n"
          ]
        }
      ],
      "source": [
        "print('Hii i am sanjeetha from team eight')\n",
        "print(\"This is my first task in khub\")\n",
        "print('''it is about python basiscs on strings''')"
      ]
    },
    {
      "cell_type": "markdown",
      "source": [
        "**STRING OPERATIONS**"
      ],
      "metadata": {
        "id": "Yg6WL_Fqa4Xh"
      }
    },
    {
      "cell_type": "markdown",
      "source": [
        "1. **Slicing String** :\n",
        "\n",
        " You can get a part (slice) of the string using string[start:end]."
      ],
      "metadata": {
        "id": "ZsBkX1t5bZdl"
      }
    },
    {
      "cell_type": "code",
      "source": [
        "text = \"Python\"\n",
        "print(text[0:3])\n",
        "print(text[2:])"
      ],
      "metadata": {
        "colab": {
          "base_uri": "https://localhost:8080/"
        },
        "id": "kx_V4523cPPz",
        "outputId": "3be01e78-467d-45c8-90dd-9b51f2ba183b"
      },
      "execution_count": null,
      "outputs": [
        {
          "output_type": "stream",
          "name": "stdout",
          "text": [
            "Pyt\n",
            "thon\n"
          ]
        }
      ]
    },
    {
      "cell_type": "markdown",
      "source": [
        "2.**Modify Strings**:\n",
        "\n",
        "    You can change the string using built-in methods like upper(), replace(), etc."
      ],
      "metadata": {
        "id": "kC6MdUvjczSq"
      }
    },
    {
      "cell_type": "markdown",
      "source": [
        "**Upper Case()**:\n",
        "\n",
        "The upper() method returns the string in upper case\n",
        "\n",
        "\n",
        "\n",
        "\n",
        "\n",
        "\n",
        "\n"
      ],
      "metadata": {
        "id": "ygSAxWwWgrOy"
      }
    },
    {
      "cell_type": "code",
      "source": [
        "s = \"python basics\"\n",
        "print(s.upper())"
      ],
      "metadata": {
        "colab": {
          "base_uri": "https://localhost:8080/"
        },
        "id": "mtCGCbyQhQyf",
        "outputId": "c9318938-4970-426e-e595-f1e37d289d27"
      },
      "execution_count": null,
      "outputs": [
        {
          "output_type": "stream",
          "name": "stdout",
          "text": [
            "PYTHON BASICS\n"
          ]
        }
      ]
    },
    {
      "cell_type": "markdown",
      "source": [
        "**lower case():**\n",
        "\n",
        "The lower() method returns the string in lower case"
      ],
      "metadata": {
        "id": "h2rmdzAChzyP"
      }
    },
    {
      "cell_type": "code",
      "source": [
        "s = \"I'M JUST LEARNING PYTHON\"\n",
        "print(s.lower())"
      ],
      "metadata": {
        "colab": {
          "base_uri": "https://localhost:8080/"
        },
        "id": "7cosI-kXiXYJ",
        "outputId": "f8413c45-dc5e-4b08-9fc7-3b9629c5d607"
      },
      "execution_count": null,
      "outputs": [
        {
          "output_type": "stream",
          "name": "stdout",
          "text": [
            "i'm just learning python\n"
          ]
        }
      ]
    },
    {
      "cell_type": "markdown",
      "source": [
        "**Remove Whitespace**:\n",
        "\n",
        " The strip() method removes any whitespace from the beginning or the end"
      ],
      "metadata": {
        "id": "j-RMlztTiVsE"
      }
    },
    {
      "cell_type": "code",
      "source": [
        "s = \" sanjeetha  \"\n",
        "print(s.strip())"
      ],
      "metadata": {
        "colab": {
          "base_uri": "https://localhost:8080/"
        },
        "id": "MfK531mHjGpV",
        "outputId": "17385cc9-5c33-4b85-9cd8-5ef5be7714dd"
      },
      "execution_count": null,
      "outputs": [
        {
          "output_type": "stream",
          "name": "stdout",
          "text": [
            "sanjeetha\n"
          ]
        }
      ]
    },
    {
      "cell_type": "markdown",
      "source": [
        "**Replace String:**\n",
        "\n",
        "The replace() method replaces a string with another string"
      ],
      "metadata": {
        "id": "vzt0qjVrjwLV"
      }
    },
    {
      "cell_type": "code",
      "source": [
        "s =\"i am so happy\"\n",
        "print(s.replace(\"so\",\"not\"))"
      ],
      "metadata": {
        "colab": {
          "base_uri": "https://localhost:8080/"
        },
        "id": "xL6ledIikCub",
        "outputId": "98296be0-7d20-4827-f2e7-b70bc5704cb1"
      },
      "execution_count": null,
      "outputs": [
        {
          "output_type": "stream",
          "name": "stdout",
          "text": [
            "i am not happy\n"
          ]
        }
      ]
    },
    {
      "cell_type": "markdown",
      "source": [
        "**Split String:**\n",
        "\n",
        "The split() method returns a list where the text between the specified separator becomes the list items.\n",
        "\n"
      ],
      "metadata": {
        "id": "t3atfgVXkyZ9"
      }
    },
    {
      "cell_type": "code",
      "source": [
        "s =\"sanjeetha cai\"\n",
        "print(s.split())"
      ],
      "metadata": {
        "colab": {
          "base_uri": "https://localhost:8080/"
        },
        "id": "fyoaXPTWlE7z",
        "outputId": "28cf4d48-1943-43aa-8a75-42d7f9f9d20c"
      },
      "execution_count": null,
      "outputs": [
        {
          "output_type": "stream",
          "name": "stdout",
          "text": [
            "['sanjeetha', 'cai']\n"
          ]
        }
      ]
    },
    {
      "cell_type": "markdown",
      "source": [
        "**3.String Concatenation:**\n",
        "\n",
        "To concatenate, or combine, two strings you can use the + operator."
      ],
      "metadata": {
        "id": "Kt2eTkH_lfer"
      }
    },
    {
      "cell_type": "code",
      "source": [
        "s = \"sanjeetha\"\n",
        "c = \" from kiet college\"\n",
        "n = s+\" \"+c\n",
        "print(n)"
      ],
      "metadata": {
        "colab": {
          "base_uri": "https://localhost:8080/"
        },
        "id": "kqlZuBYcnDfd",
        "outputId": "5fbf787a-01e5-49cc-dded-0f0d32ff3018"
      },
      "execution_count": null,
      "outputs": [
        {
          "output_type": "stream",
          "name": "stdout",
          "text": [
            "sanjeetha  from kiet college\n"
          ]
        }
      ]
    },
    {
      "cell_type": "markdown",
      "source": [
        "**String Format:**\n",
        "\n",
        "String formatting is a way to insert variables or values into a string.\n",
        "\n"
      ],
      "metadata": {
        "id": "1W6qsRTjnjFL"
      }
    },
    {
      "cell_type": "code",
      "source": [
        "name = \"Sanju\"\n",
        "age = 20\n",
        "print(\"My name is {} and I am {} years old.\".format(name, age))"
      ],
      "metadata": {
        "colab": {
          "base_uri": "https://localhost:8080/"
        },
        "id": "Lk07CvnEn52d",
        "outputId": "edb228a8-eaf5-4f9d-c8df-c123a5e4231b"
      },
      "execution_count": null,
      "outputs": [
        {
          "output_type": "stream",
          "name": "stdout",
          "text": [
            "My name is Sanju and I am 20 years old.\n"
          ]
        }
      ]
    },
    {
      "cell_type": "markdown",
      "source": [
        "String methods:\n",
        "\n",
        "capitalize() – Capitalizes first character"
      ],
      "metadata": {
        "id": "w8EPxVwrp7sc"
      }
    },
    {
      "cell_type": "code",
      "source": [
        "s = \"happy freindship day\"\n",
        "print(s.capitalize())"
      ],
      "metadata": {
        "colab": {
          "base_uri": "https://localhost:8080/"
        },
        "id": "VbYNiGmusGQb",
        "outputId": "71d1552e-9836-4167-c35f-cf3883bf2862"
      },
      "execution_count": null,
      "outputs": [
        {
          "output_type": "stream",
          "name": "stdout",
          "text": [
            "Happy freindship day\n"
          ]
        }
      ]
    },
    {
      "cell_type": "markdown",
      "source": [
        "title() – Capitalizes first letter of each word"
      ],
      "metadata": {
        "id": "XoivUqjAsmd8"
      }
    },
    {
      "cell_type": "code",
      "source": [
        "text = \"learn python fast\"\n",
        "print(text.title())"
      ],
      "metadata": {
        "colab": {
          "base_uri": "https://localhost:8080/"
        },
        "id": "G3dNereWsxBQ",
        "outputId": "8cb975ab-ea1f-4b18-d23a-abe868092879"
      },
      "execution_count": null,
      "outputs": [
        {
          "output_type": "stream",
          "name": "stdout",
          "text": [
            "Learn Python Fast\n"
          ]
        }
      ]
    },
    {
      "cell_type": "markdown",
      "source": [
        "join() – Joins elements of a list into a string"
      ],
      "metadata": {
        "id": "FoRRM-z9tPbp"
      }
    },
    {
      "cell_type": "code",
      "source": [
        "words = ['today', 'is a ', 'fun day']\n",
        "print(\" \".join(words))\n"
      ],
      "metadata": {
        "colab": {
          "base_uri": "https://localhost:8080/"
        },
        "id": "xOUtAC2htYYx",
        "outputId": "0e74ac42-b994-4e50-9f0a-4a9464c916fc"
      },
      "execution_count": null,
      "outputs": [
        {
          "output_type": "stream",
          "name": "stdout",
          "text": [
            "today is a  fun day\n"
          ]
        }
      ]
    },
    {
      "cell_type": "markdown",
      "source": [
        "find(sub) – Finds position of substring"
      ],
      "metadata": {
        "id": "deB5Yfxht0OS"
      }
    },
    {
      "cell_type": "code",
      "source": [
        "text = \"gadam sai krupa sanjeetha\"\n",
        "print(text.find(\"sanjeetha\"))\n"
      ],
      "metadata": {
        "colab": {
          "base_uri": "https://localhost:8080/"
        },
        "id": "czOakgort0yE",
        "outputId": "0284c72d-a6d7-42ab-e745-c70d8ce55a5e"
      },
      "execution_count": null,
      "outputs": [
        {
          "output_type": "stream",
          "name": "stdout",
          "text": [
            "16\n"
          ]
        }
      ]
    },
    {
      "cell_type": "markdown",
      "source": [],
      "metadata": {
        "id": "EGLkntzrunRh"
      }
    },
    {
      "cell_type": "markdown",
      "source": [
        "##1. Arithmetic Operators:\n",
        "These operators are used to perform mathematical operations.\n",
        "\n",
        "Addition\n",
        "\n",
        "\n",
        "Subtraction\n",
        "\n",
        "\n",
        "Multiplication\n",
        "\n",
        "\n",
        "Division\n",
        "\n",
        "\n",
        "Modulus\n",
        "\n",
        "Exponentiation\n",
        "\n",
        "Floor Division"
      ],
      "metadata": {
        "id": "sHxEcfK5n-J2"
      }
    },
    {
      "cell_type": "code",
      "source": [],
      "metadata": {
        "id": "xp5_uRb6urVY"
      },
      "execution_count": null,
      "outputs": []
    },
    {
      "cell_type": "code",
      "source": [
        "a = 18\n",
        "b = 7\n",
        "\n",
        "print(a + b)\n",
        "print(a - b)\n",
        "print(a * b)\n",
        "print(a / b)\n",
        "print(a % b)\n",
        "print(a ** b)\n",
        "print(a // b)"
      ],
      "metadata": {
        "colab": {
          "base_uri": "https://localhost:8080/"
        },
        "id": "LpN81QmTk0ww",
        "outputId": "cf0f66bd-dc4e-4b8e-dee7-db0c665ce885"
      },
      "execution_count": null,
      "outputs": [
        {
          "output_type": "stream",
          "name": "stdout",
          "text": [
            "25\n",
            "11\n",
            "126\n",
            "2.5714285714285716\n",
            "4\n",
            "612220032\n",
            "2\n"
          ]
        }
      ]
    },
    {
      "cell_type": "markdown",
      "source": [],
      "metadata": {
        "id": "U_hWpGUEuzmj"
      }
    },
    {
      "cell_type": "markdown",
      "source": [
        "# 2. Comparison Operators:\n",
        "These operators are used to compare two values and return a Boolean result.\n",
        "\n",
        "== : Equal to\n",
        "\n",
        "!= : Not equal to\n",
        "\n",
        "(> ): Greater than\n",
        "\n",
        "< : Less than\n",
        "\n",
        "(>=): Greater than or equal to\n",
        "\n",
        "<= : Less than or equal to"
      ],
      "metadata": {
        "id": "UcQHwaPzf42Z"
      }
    },
    {
      "cell_type": "code",
      "source": [
        "a = 9\n",
        "b = 7\n",
        "\n",
        "print(a == b)\n",
        "print(a != b)\n",
        "print(a > b)\n",
        "print(a < b)\n",
        "print(a >= b)\n",
        "print(a <= b)\n"
      ],
      "metadata": {
        "id": "GAlbRBO_BnOp",
        "colab": {
          "base_uri": "https://localhost:8080/"
        },
        "outputId": "aa071f2c-b1db-45e1-ff7f-023f6c686f42"
      },
      "execution_count": null,
      "outputs": [
        {
          "output_type": "stream",
          "name": "stdout",
          "text": [
            "False\n",
            "True\n",
            "True\n",
            "False\n",
            "True\n",
            "False\n"
          ]
        }
      ]
    },
    {
      "cell_type": "markdown",
      "source": [
        "# 3. Logical Operators:\n",
        "These operators are used to perform logical operations and return a Boolean result.\n",
        "\n",
        "and : Returns True if both statements are true\n",
        "\n",
        "or : Returns True if one of the statements is true\n",
        "\n",
        "not : Reverses the result, returns False if the result is true\n",
        "\n"
      ],
      "metadata": {
        "id": "GQajLaF6wdyB"
      }
    },
    {
      "cell_type": "code",
      "source": [
        "x = True\n",
        "y = False\n",
        "\n",
        "print(x and y)\n",
        "print(x or y)\n",
        "print(not x)"
      ],
      "metadata": {
        "colab": {
          "base_uri": "https://localhost:8080/"
        },
        "id": "-GBrJZ4Zwgfo",
        "outputId": "9ef5b37e-4d0b-4c43-d0bf-e52d52cb2f4a"
      },
      "execution_count": null,
      "outputs": [
        {
          "output_type": "stream",
          "name": "stdout",
          "text": [
            "False\n",
            "True\n",
            "False\n"
          ]
        }
      ]
    },
    {
      "cell_type": "markdown",
      "source": [
        "# Bitwise Operators:\n",
        "These operators are used to perform bit-level operations on integers. & : AND\n",
        "\n",
        "| : OR\n",
        "\n",
        "^ : XOR\n",
        "\n",
        "~ : NOT\n",
        "\n",
        "<< : Zero fill left shift\n",
        "\n",
        "(>>) : Signed right shift"
      ],
      "metadata": {
        "id": "6wXaZXeJwstE"
      }
    },
    {
      "cell_type": "code",
      "source": [
        "a = 10\n",
        "b = 4\n",
        "\n",
        "print(a & b)\n",
        "print(a | b)\n",
        "print(a ^ b)\n",
        "print(~a)\n",
        "print(a << 1)\n",
        "print(a >> 1)\n",
        "\n"
      ],
      "metadata": {
        "colab": {
          "base_uri": "https://localhost:8080/"
        },
        "id": "0rGQP3AmwyMy",
        "outputId": "2161b8b6-4cee-40b1-90f0-13c8c9db166f"
      },
      "execution_count": null,
      "outputs": [
        {
          "output_type": "stream",
          "name": "stdout",
          "text": [
            "0\n",
            "14\n",
            "14\n",
            "-11\n",
            "20\n",
            "5\n"
          ]
        }
      ]
    },
    {
      "cell_type": "markdown",
      "source": [
        "# 5. Assignment Operators:\n",
        "These operators are used to assign values to variables.\n",
        "\n",
        "= : Assign\n",
        "\n",
        "+= : Add and assign\n",
        "\n",
        "-= : Subtract and assign\n",
        "\n",
        "*= : Multiply and assign\n",
        "\n",
        "/= : Divide and assign\n",
        "\n",
        "%= : Modulus and assign\n",
        "\n",
        "**= : Exponentiation and assign\n",
        "\n",
        "//= : Floor division and assign\n",
        "\n",
        "\n",
        "[7]\n",
        "0s\n"
      ],
      "metadata": {
        "id": "3FdS51quw2uf"
      }
    },
    {
      "cell_type": "code",
      "source": [
        "a = 10\n",
        "a += 3\n",
        "print(a)\n",
        "\n",
        "a -= 2\n",
        "print(a)\n",
        "\n",
        "a *= 2\n",
        "print(a)\n",
        "\n",
        "a /= 4\n",
        "print(a)\n",
        "\n",
        "a %= 3\n",
        "print(a)\n",
        "\n",
        "a **= 2\n",
        "print(a)\n",
        "\n",
        "a //= 2\n",
        "print(a)"
      ],
      "metadata": {
        "colab": {
          "base_uri": "https://localhost:8080/"
        },
        "id": "ukR8Ib38w5Gd",
        "outputId": "b9231f97-98be-4455-c1f7-01c5be388227"
      },
      "execution_count": null,
      "outputs": [
        {
          "output_type": "stream",
          "name": "stdout",
          "text": [
            "13\n",
            "11\n",
            "22\n",
            "5.5\n",
            "2.5\n",
            "6.25\n",
            "3.0\n"
          ]
        }
      ]
    },
    {
      "cell_type": "markdown",
      "source": [
        "# List Methods\n",
        "append()-Adds an element at the end of the list\n",
        "\n",
        "clear()-Removes all the elements from the list\n",
        "\n",
        "copy()-Returns a copy of the list\n",
        "\n",
        "count()-Returns the number of elements with the specified value\n",
        "\n",
        "extend()-Add the elements of a list (or any iterable), to the end of the current list\n",
        "\n",
        "index()-Returns the index of the first element with the specified value\n",
        "\n",
        "insert()-Adds an element at the specified position\n",
        "\n",
        "pop()-Removes the element at the specified position\n",
        "\n",
        "remove()-Removes the item with the specified value\n",
        "\n",
        "reverse()-Reverses the order of the list\n",
        "\n",
        "sort()-Sorts the list\n",
        "\n",
        "len()-Returns the number of elements in the list."
      ],
      "metadata": {
        "id": "RzlFgKQTxEmR"
      }
    },
    {
      "cell_type": "code",
      "source": [
        "fruits = [\"apple\", \"banana\", \"cherry\", \"banana\"]\n",
        "\n",
        "fruits.append(\"orange\")\n",
        "\n",
        "copy_list = fruits.copy()\n",
        "\n",
        "print(fruits.count(\"banana\"))\n",
        "\n",
        "fruits.extend([\"grape\", \"melon\"])\n",
        "\n",
        "print(fruits.index(\"cherry\"))\n",
        "\n",
        "fruits.insert(1, \"kiwi\")\n",
        "\n",
        "fruits.pop(3)\n",
        "\n",
        "fruits.remove(\"banana\")\n",
        "\n",
        "fruits.reverse()\n",
        "\n",
        "fruits.sort()\n",
        "\n",
        "print(\"Length:\", len(fruits))\n",
        "\n",
        "print(\"Final list:\", fruits)\n",
        "print(\"Copied list:\", copy_list)\n"
      ],
      "metadata": {
        "colab": {
          "base_uri": "https://localhost:8080/"
        },
        "id": "RTBvJXesxL08",
        "outputId": "d74c2692-3738-4301-888d-335d809f4129"
      },
      "execution_count": null,
      "outputs": [
        {
          "output_type": "stream",
          "name": "stdout",
          "text": [
            "2\n",
            "2\n",
            "Length: 6\n",
            "Final list: ['apple', 'banana', 'grape', 'kiwi', 'melon', 'orange']\n",
            "Copied list: ['apple', 'banana', 'cherry', 'banana', 'orange']\n"
          ]
        }
      ]
    },
    {
      "cell_type": "markdown",
      "source": [
        "# Set Methods\n",
        "add()- Adds an element to the set.\n",
        "\n",
        "remove()-Removes a specific element from the set. Raises a KeyError if the element is not found.\n",
        "\n",
        "discard()-Removes a specific element from the set, but does not raise an error if the element is not found.\n",
        "\n",
        "pop()-Removes and returns an arbitrary element from the set.\n",
        "\n",
        "clear()-Removes all elements from the set.\n",
        "\n",
        "union()-Returns a set containing all elements from both sets.\n",
        "\n",
        "intersection()-Returns a set containing only elements that are common in both sets."
      ],
      "metadata": {
        "id": "8kE48hA5xSlZ"
      }
    },
    {
      "cell_type": "code",
      "source": [
        "set1 = {1, 2, 3}\n",
        "set2 = {3, 4, 5}\n",
        "\n",
        "set1.add(6)\n",
        "set1.remove(2)\n",
        "set1.discard(10)\n",
        "set1.pop()\n",
        "\n",
        "union_set = set1.union(set2)\n",
        "print(\"Union:\", union_set)\n",
        "\n",
        "intersection_set = set1.intersection(set2)\n",
        "print(\"Intersection:\", intersection_set)\n",
        "\n",
        "print(\"Set1:\", set1)\n",
        "print(\"Set2:\", set2)\n"
      ],
      "metadata": {
        "colab": {
          "base_uri": "https://localhost:8080/"
        },
        "id": "F0qZRcMkxeCP",
        "outputId": "3838063f-a027-4021-ab09-203d4ef87902"
      },
      "execution_count": null,
      "outputs": [
        {
          "output_type": "stream",
          "name": "stdout",
          "text": [
            "Union: {3, 4, 5, 6}\n",
            "Intersection: {3}\n",
            "Set1: {3, 6}\n",
            "Set2: {3, 4, 5}\n"
          ]
        }
      ]
    },
    {
      "cell_type": "markdown",
      "source": [
        "# Dictionary Methods\n",
        "dict[key] = value-Adds a key-value pair to the dictionary.\n",
        "\n",
        "pop(key)-Removes the key and returns its value.\n",
        "\n",
        "del dict[key]-Deletes a key-value pair.\n",
        "\n",
        "clear()-Removes all items from the dictionary.\n",
        "\n",
        "keys()-Returns a view object of all the keys in the dictionary.\n",
        "\n",
        "values()-Returns a view object of all the values in the dictionary.\n",
        "\n",
        "items()-Returns a view object of all the key-value pairs in the dictionary. python\n",
        "\n",
        "copy() Returns a copy of the dictionary\n",
        "\n",
        "fromkeys() Returns a dictionary with the specified keys and value\n",
        "\n",
        "get() Returns the value of the specified key\n",
        "\n",
        "popitem() Removes the last inserted key-value pair"
      ],
      "metadata": {
        "id": "AwVuN6hg0bXm"
      }
    },
    {
      "cell_type": "code",
      "source": [
        "my_dict = {}\n",
        "\n",
        "my_dict[\"name\"] = \"Alice\"\n",
        "my_dict[\"age\"] = 25\n",
        "my_dict[\"city\"] = \"New York\"\n",
        "\n",
        "value = my_dict.pop(\"age\")\n",
        "\n",
        "my_dict[\"country\"] = \"USA\"\n",
        "del my_dict[\"city\"]\n",
        "\n",
        "copied_dict = my_dict.copy()\n",
        "\n",
        "keys_view = my_dict.keys()\n",
        "values_view = my_dict.values()\n",
        "items_view = my_dict.items()\n",
        "\n",
        "default_dict = dict.fromkeys([\"a\", \"b\", \"c\"], 0)\n",
        "\n",
        "name_value = my_dict.get(\"name\")\n",
        "\n",
        "last_item = my_dict.popitem()\n",
        "\n",
        "my_dict.clear()\n",
        "\n",
        "print(\"Copied Dict:\", copied_dict)\n",
        "print(\"Keys:\", keys_view)\n",
        "print(\"Values:\", values_view)\n",
        "print(\"Items:\", items_view)\n",
        "print(\"Fromkeys Dict:\", default_dict)\n",
        "print(\"Name Value:\", name_value)\n",
        "print(\"Last Popped Item:\", last_item)\n",
        "print(\"Cleared Dict:\", my_dict)\n"
      ],
      "metadata": {
        "colab": {
          "base_uri": "https://localhost:8080/"
        },
        "id": "GEChuf8G0fpA",
        "outputId": "171b9b8b-ecf6-45c3-c795-9e254534ee39"
      },
      "execution_count": null,
      "outputs": [
        {
          "output_type": "stream",
          "name": "stdout",
          "text": [
            "Copied Dict: {'name': 'Alice', 'country': 'USA'}\n",
            "Keys: dict_keys([])\n",
            "Values: dict_values([])\n",
            "Items: dict_items([])\n",
            "Fromkeys Dict: {'a': 0, 'b': 0, 'c': 0}\n",
            "Name Value: Alice\n",
            "Last Popped Item: ('country', 'USA')\n",
            "Cleared Dict: {}\n"
          ]
        }
      ]
    },
    {
      "cell_type": "markdown",
      "source": [
        "# Tuples Methods\n",
        "count()-Returns the number of times a specified value occurs in a tuple\n",
        "\n",
        "index()-Searches the tuple for a specified value and returns the position of where it was found"
      ],
      "metadata": {
        "id": "mCqeVOwv0nM1"
      }
    },
    {
      "cell_type": "code",
      "source": [
        "my_tuple = (1, 2, 3, 2, 4, 2, 5)\n",
        "\n",
        "count_of_2 = my_tuple.count(2)\n",
        "index_of_3 = my_tuple.index(3)\n",
        "\n",
        "print(\"Count of 2:\", count_of_2)\n",
        "print(\"Index of 3:\", index_of_3)\n"
      ],
      "metadata": {
        "colab": {
          "base_uri": "https://localhost:8080/"
        },
        "id": "sDXg81mH0r7r",
        "outputId": "641bbb26-ee2c-4cb9-faa0-13ae0b46cbda"
      },
      "execution_count": null,
      "outputs": [
        {
          "output_type": "stream",
          "name": "stdout",
          "text": [
            "Count of 2: 3\n",
            "Index of 3: 2\n"
          ]
        }
      ]
    },
    {
      "cell_type": "markdown",
      "source": [
        "# CONDITIONS\n",
        "In Python, conditions are used to execute code based on whether certain criteria are met. This is typically done using if, elif, and else statements. You can also use conditional expressions and ternary operators for concise conditional logic. Here’s a comprehensive overview of different types of conditional constructs in Python:\n",
        "\n"
      ],
      "metadata": {
        "id": "68gEE5ta0xDD"
      }
    },
    {
      "cell_type": "markdown",
      "source": [
        "# 1. if Statement\n",
        "Executes a block of code if a condition is true."
      ],
      "metadata": {
        "id": "oIA3TcsH07mw"
      }
    },
    {
      "cell_type": "code",
      "source": [
        "age = 18\n",
        "if age >= 18:\n",
        "    print(\"You are eligible to vote\")"
      ],
      "metadata": {
        "colab": {
          "base_uri": "https://localhost:8080/"
        },
        "id": "nExb3E8U09NY",
        "outputId": "8104c31d-f5cb-40b3-8ddf-d3c2cf5dead7"
      },
      "execution_count": null,
      "outputs": [
        {
          "output_type": "stream",
          "name": "stdout",
          "text": [
            "You are eligible to vote\n"
          ]
        }
      ]
    },
    {
      "cell_type": "markdown",
      "source": [
        "# if-else Statement\n",
        "Executes one block if the condition is true, another if false.\n",
        "\n",
        "\n"
      ],
      "metadata": {
        "id": "p_lFeDuH1A-0"
      }
    },
    {
      "cell_type": "code",
      "source": [
        "num = 5\n",
        "if num % 2 == 0:\n",
        "    print(\"Even\")\n",
        "else:\n",
        "    print(\"Odd\")\n"
      ],
      "metadata": {
        "colab": {
          "base_uri": "https://localhost:8080/"
        },
        "id": "3z3bkieT1Ff5",
        "outputId": "1ae46972-5235-402b-d2b3-147d8fc7e4c3"
      },
      "execution_count": null,
      "outputs": [
        {
          "output_type": "stream",
          "name": "stdout",
          "text": [
            "Odd\n"
          ]
        }
      ]
    },
    {
      "cell_type": "markdown",
      "source": [
        "# if-elif-else Ladder\n",
        "Checks multiple conditions in sequence.\n",
        "\n"
      ],
      "metadata": {
        "id": "wedTRQyQ1ImM"
      }
    },
    {
      "cell_type": "code",
      "source": [
        "marks = 75\n",
        "if marks >= 90:\n",
        "    print(\"Grade A\")\n",
        "elif marks >= 75:\n",
        "    print(\"Grade B\")\n",
        "elif marks >= 60:\n",
        "    print(\"Grade C\")\n",
        "else:\n",
        "    print(\"Fail\")"
      ],
      "metadata": {
        "colab": {
          "base_uri": "https://localhost:8080/"
        },
        "id": "Jfges9P41M0E",
        "outputId": "8ed178fe-5cc2-46c7-c300-3278142226f6"
      },
      "execution_count": null,
      "outputs": [
        {
          "output_type": "stream",
          "name": "stdout",
          "text": [
            "Grade B\n"
          ]
        }
      ]
    },
    {
      "cell_type": "markdown",
      "source": [
        "# Nested if Statements\n",
        "if statement inside another if."
      ],
      "metadata": {
        "id": "-ECQTfWi1Q2G"
      }
    },
    {
      "cell_type": "code",
      "source": [
        "x = 10\n",
        "if x > 5:\n",
        "    if x < 20:\n",
        "        print(\"x is between 5 and 20\")"
      ],
      "metadata": {
        "colab": {
          "base_uri": "https://localhost:8080/"
        },
        "id": "drAgJDvZ1WhB",
        "outputId": "31382015-b72d-403f-82cd-ed6a246b9a3a"
      },
      "execution_count": null,
      "outputs": [
        {
          "output_type": "stream",
          "name": "stdout",
          "text": [
            "x is between 5 and 20\n"
          ]
        }
      ]
    },
    {
      "cell_type": "markdown",
      "source": [
        "# match-case\n",
        "Match case is a pattern matching feature introduced in Python 3.10. It works like a switch-case statement in other languages (like C, Java)\n",
        "\n"
      ],
      "metadata": {
        "id": "zfRgeiLi1Z6I"
      }
    },
    {
      "cell_type": "code",
      "source": [
        "day = \"Monday\"\n",
        "\n",
        "match day:\n",
        "    case \"Monday\":\n",
        "        print(\"Start of the week\")\n",
        "    case \"Friday\":\n",
        "        print(\"End of the work week\")\n",
        "    case \"Sunday\":\n",
        "        print(\"Weekend!\")\n",
        "    case _:\n",
        "        print(\"Just a regular day\")"
      ],
      "metadata": {
        "colab": {
          "base_uri": "https://localhost:8080/"
        },
        "id": "AvumtFom1gm4",
        "outputId": "fd8dc77f-3d68-4de5-ecb7-53cf7bca9f0b"
      },
      "execution_count": null,
      "outputs": [
        {
          "output_type": "stream",
          "name": "stdout",
          "text": [
            "Start of the week\n"
          ]
        }
      ]
    },
    {
      "cell_type": "code",
      "source": [
        "\n"
      ],
      "metadata": {
        "id": "vdO_FRV201E8"
      },
      "execution_count": null,
      "outputs": []
    },
    {
      "cell_type": "code",
      "source": [],
      "metadata": {
        "id": "iazbo1B-xSDc"
      },
      "execution_count": null,
      "outputs": []
    }
  ]
}