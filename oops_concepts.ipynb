{
  "nbformat": 4,
  "nbformat_minor": 0,
  "metadata": {
    "colab": {
      "provenance": [],
      "authorship_tag": "ABX9TyN6S+AjbEdxlIofJ2yiUIzA",
      "include_colab_link": true
    },
    "kernelspec": {
      "name": "python3",
      "display_name": "Python 3"
    },
    "language_info": {
      "name": "python"
    }
  },
  "cells": [
    {
      "cell_type": "markdown",
      "metadata": {
        "id": "view-in-github",
        "colab_type": "text"
      },
      "source": [
        "<a href=\"https://colab.research.google.com/github/Sanjeethagadam/khub_Daily_Tasks/blob/main/oops_concepts.ipynb\" target=\"_parent\"><img src=\"https://colab.research.google.com/assets/colab-badge.svg\" alt=\"Open In Colab\"/></a>"
      ]
    },
    {
      "cell_type": "markdown",
      "source": [
        "What is OOPS?"
      ],
      "metadata": {
        "id": "U-Z6yYyFITJY"
      }
    },
    {
      "cell_type": "markdown",
      "source": [
        "OOPS = Object-Oriented Programming System— a style of programming where we structure code around objects rather than just functions and logic.\n",
        "\n",
        "\n",
        "Class – A blueprint for creating objects.\n",
        "Example: \"Car\" is a blueprint that describes what every car should have.\n",
        "\n",
        "Object – An actual thing created from the blueprint.\n",
        "Example: Your specific red Honda is an object of the \"Car\" class.\n",
        "\n",
        "Attributes – Variables that store data about the object.\n",
        "Example: color = \"red\", speed = 120 km/h.\n",
        "\n",
        "Methods – Functions that define what the object can do.\n",
        "Example: start(), stop(), honk()."
      ],
      "metadata": {
        "id": "r6f4pcf2ILa9"
      }
    },
    {
      "cell_type": "code",
      "source": [
        "class Student:\n",
        "    def __init__(self, name, grade):\n",
        "        self.name = name\n",
        "        self.grade = grade\n",
        "\n",
        "    def update_grade(self, new_grade):\n",
        "        print(f\"{self.name}'s grade updated from {self.grade} to {new_grade}\")\n",
        "        self.grade = new_grade\n",
        "\n",
        "    def display(self):\n",
        "        print(f\"Student: {self.name}, Grade: {self.grade}\")\n",
        "\n",
        "s1 = Student(\"Alice\", \"B\")\n",
        "s1.update_grade(\"A\")\n",
        "s1.display()\n"
      ],
      "metadata": {
        "colab": {
          "base_uri": "https://localhost:8080/"
        },
        "id": "uvT8mgfoKLVQ",
        "outputId": "cc978089-180f-4c91-deb8-7979ba2e5527"
      },
      "execution_count": 4,
      "outputs": [
        {
          "output_type": "stream",
          "name": "stdout",
          "text": [
            "Alice's grade updated from B to A\n",
            "Student: Alice, Grade: A\n"
          ]
        }
      ]
    },
    {
      "cell_type": "markdown",
      "source": [
        "**1. Encapsulation :**\n",
        "\n",
        "Encapsulation means wrapping attributes (data) and methods (functions) inside a class so that data is protected and can’t be accessed directly from outside."
      ],
      "metadata": {
        "id": "6wj0A_FcKpFi"
      }
    },
    {
      "cell_type": "code",
      "source": [
        "class Person:\n",
        "    def __init__(self, name):\n",
        "        self.__name = name\n",
        "\n",
        "    def get_name(self):\n",
        "        return self.__name\n",
        "\n",
        "p = Person(\"sanju\")\n",
        "print(p.get_name())\n"
      ],
      "metadata": {
        "colab": {
          "base_uri": "https://localhost:8080/"
        },
        "id": "U_D4RZkrKor9",
        "outputId": "9e774343-3f6e-4b89-82e6-2b6cfe80d188"
      },
      "execution_count": 5,
      "outputs": [
        {
          "output_type": "stream",
          "name": "stdout",
          "text": [
            "sanju\n"
          ]
        }
      ]
    },
    {
      "cell_type": "markdown",
      "source": [
        "**2.Abstraction:**\n",
        "\n",
        "Hiding the internal details of a process and showing only what’s necessary."
      ],
      "metadata": {
        "id": "50xSCpP4LAv9"
      }
    },
    {
      "cell_type": "code",
      "source": [
        "from abc import ABC, abstractmethod\n",
        "\n",
        "class Animal(ABC):\n",
        "    @abstractmethod\n",
        "    def sound(self):\n",
        "        pass\n",
        "\n",
        "class Dog(Animal):\n",
        "    def sound(self):\n",
        "        return \"Bark\"\n",
        "\n",
        "class Cat(Animal):\n",
        "    def sound(self):\n",
        "        return \"Meow\"\n",
        "\n",
        "print(Dog().sound())\n",
        "print(Cat().sound())\n"
      ],
      "metadata": {
        "colab": {
          "base_uri": "https://localhost:8080/"
        },
        "id": "WXotS8avLgyx",
        "outputId": "4635c863-fd52-49e9-b91b-6f318295812d"
      },
      "execution_count": 7,
      "outputs": [
        {
          "output_type": "stream",
          "name": "stdout",
          "text": [
            "Bark\n",
            "Meow\n"
          ]
        }
      ]
    },
    {
      "cell_type": "markdown",
      "source": [
        "**3. Inheritance  :**\n",
        "\n",
        "A child class gets properties and methods from a parent class."
      ],
      "metadata": {
        "id": "kCwTQmRbLkqo"
      }
    },
    {
      "cell_type": "code",
      "source": [
        "class Mother:\n",
        "    def cooking(self):\n",
        "        print(\"Mother is cooking\")\n",
        "\n",
        "class Father:\n",
        "    def driving(self):\n",
        "        print(\"Father is driving\")\n",
        "\n",
        "class Child(Mother, Father):\n",
        "    def playing(self):\n",
        "        print(\"Child is playing\")\n",
        "\n",
        "c = Child()\n",
        "c.cooking()\n",
        "c.driving()\n",
        "c.playing()\n"
      ],
      "metadata": {
        "colab": {
          "base_uri": "https://localhost:8080/"
        },
        "id": "Ka3GJrDGLjus",
        "outputId": "bcebbf60-765c-4f7f-a663-57ef8aa34c78"
      },
      "execution_count": 8,
      "outputs": [
        {
          "output_type": "stream",
          "name": "stdout",
          "text": [
            "Mother is cooking\n",
            "Father is driving\n",
            "Child is playing\n"
          ]
        }
      ]
    },
    {
      "cell_type": "markdown",
      "source": [
        "**4. Polymorphism :**\n",
        "\n",
        "Same method name works differently depending on the object."
      ],
      "metadata": {
        "id": "kirSBv1mMl2Y"
      }
    },
    {
      "cell_type": "code",
      "source": [
        "class Teacher:\n",
        "    def role(self):\n",
        "        print(\"Teaching lessons\")\n",
        "\n",
        "class Student:\n",
        "    def role(self):\n",
        "        print(\"Learning lessons\")\n",
        "\n",
        "for person in [Teacher(), Student()]:\n",
        "    person.role()\n"
      ],
      "metadata": {
        "colab": {
          "base_uri": "https://localhost:8080/"
        },
        "id": "2gn5wAkbM0CO",
        "outputId": "05fbd7ac-4ae1-4a42-a1c0-90dd6434246f"
      },
      "execution_count": 9,
      "outputs": [
        {
          "output_type": "stream",
          "name": "stdout",
          "text": [
            "Teaching lessons\n",
            "Learning lessons\n"
          ]
        }
      ]
    }
  ]
}