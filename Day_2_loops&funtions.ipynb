{
  "nbformat": 4,
  "nbformat_minor": 0,
  "metadata": {
    "colab": {
      "provenance": [],
      "authorship_tag": "ABX9TyP5yyyJ+yTwB0eldh5ocgU5",
      "include_colab_link": true
    },
    "kernelspec": {
      "name": "python3",
      "display_name": "Python 3"
    },
    "language_info": {
      "name": "python"
    }
  },
  "cells": [
    {
      "cell_type": "markdown",
      "metadata": {
        "id": "view-in-github",
        "colab_type": "text"
      },
      "source": [
        "<a href=\"https://colab.research.google.com/github/Sanjeethagadam/khub_8_/blob/main/Day_2_loops%26funtions.ipynb\" target=\"_parent\"><img src=\"https://colab.research.google.com/assets/colab-badge.svg\" alt=\"Open In Colab\"/></a>"
      ]
    },
    {
      "cell_type": "markdown",
      "source": [
        "# **loops :**\n",
        "\n",
        "In Python, loops are used to execute a block of code multiple times"
      ],
      "metadata": {
        "id": "-8PRMB-yMKoq"
      }
    },
    {
      "cell_type": "markdown",
      "source": [
        "# **1.for loop :**\n",
        "\n",
        "Used to iterate over a sequence (like list, tuple, string, or range)"
      ],
      "metadata": {
        "id": "YDARvUZ4R2c7"
      }
    },
    {
      "cell_type": "code",
      "source": [
        "#syntax\n",
        "s = \"sanju\"\n",
        "for i in s:\n",
        "  print(i)"
      ],
      "metadata": {
        "colab": {
          "base_uri": "https://localhost:8080/"
        },
        "id": "fO4U4IkzWXTe",
        "outputId": "d9d90ed7-aae4-4b52-b433-3125612b8e4e"
      },
      "execution_count": 2,
      "outputs": [
        {
          "output_type": "stream",
          "name": "stdout",
          "text": [
            "s\n",
            "a\n",
            "n\n",
            "j\n",
            "u\n"
          ]
        }
      ]
    },
    {
      "cell_type": "markdown",
      "source": [
        "**1.for loop with a list:**\n",
        "\n",
        "Loop over items in a list.it's denoted[](mutable)."
      ],
      "metadata": {
        "id": "ADZTxo6jW0LV"
      }
    },
    {
      "cell_type": "code",
      "source": [
        "#example\n",
        "kiet = [\"khub\",\"gcc\",\"toastmasters\",\"robotics\"]\n",
        "for i in kiet:\n",
        "  print(i)"
      ],
      "metadata": {
        "colab": {
          "base_uri": "https://localhost:8080/"
        },
        "id": "MjiEKlu4Xm2E",
        "outputId": "d46621ad-201c-4ac1-a871-2d3b16c48eed"
      },
      "execution_count": 4,
      "outputs": [
        {
          "output_type": "stream",
          "name": "stdout",
          "text": [
            "khub\n",
            "gcc\n",
            "toastmasters\n",
            "robotics\n"
          ]
        }
      ]
    },
    {
      "cell_type": "markdown",
      "source": [
        "**2.for loop with a tuple:**\n",
        "\n",
        "Loop over immutable items(cannot change) it's denoted by().\n"
      ],
      "metadata": {
        "id": "sGVUxFfsYTc_"
      }
    },
    {
      "cell_type": "code",
      "source": [
        "#example\n",
        "s = (\"today\",\"i am\",\"learning\",\"python\")\n",
        "for i in s:\n",
        "  print(i)"
      ],
      "metadata": {
        "colab": {
          "base_uri": "https://localhost:8080/"
        },
        "id": "I078oBrZZCvL",
        "outputId": "9220df0c-feae-4690-d854-83d100664b05"
      },
      "execution_count": 5,
      "outputs": [
        {
          "output_type": "stream",
          "name": "stdout",
          "text": [
            "today\n",
            "i am\n",
            "learning\n",
            "python\n"
          ]
        }
      ]
    },
    {
      "cell_type": "markdown",
      "source": [
        "**3.for loop with string:**\n",
        "\n",
        "Loop over characters in a string\n",
        "\n"
      ],
      "metadata": {
        "id": "UkbrR9jZZ_Dl"
      }
    },
    {
      "cell_type": "code",
      "source": [
        "#example\n",
        "s = \"sanjeetha\"\n",
        "for i in s:\n",
        "  print(i)"
      ],
      "metadata": {
        "colab": {
          "base_uri": "https://localhost:8080/"
        },
        "id": "WcBc8u05alsh",
        "outputId": "b5dffb10-ce4f-4a37-ece7-20832885f94b"
      },
      "execution_count": 10,
      "outputs": [
        {
          "output_type": "stream",
          "name": "stdout",
          "text": [
            "s\n",
            "a\n",
            "n\n",
            "j\n",
            "e\n",
            "e\n",
            "t\n",
            "h\n",
            "a\n"
          ]
        }
      ]
    },
    {
      "cell_type": "markdown",
      "source": [
        "**4.for loop with range():**\n",
        "\n",
        "The range() function generates a sequence of numbers/Loop with index/counting logic.\n",
        "\n"
      ],
      "metadata": {
        "id": "6xyST21HcsZq"
      }
    },
    {
      "cell_type": "code",
      "source": [
        "#exmaple\n",
        "for i in range(0,8):\n",
        "  print(i)\n",
        "print(\"it's done\")\n"
      ],
      "metadata": {
        "colab": {
          "base_uri": "https://localhost:8080/"
        },
        "id": "uaIW9xu1eNFB",
        "outputId": "eb849ac9-3cca-4b01-e3d2-3cd607f3c395"
      },
      "execution_count": 47,
      "outputs": [
        {
          "output_type": "stream",
          "name": "stdout",
          "text": [
            "0\n",
            "1\n",
            "2\n",
            "3\n",
            "4\n",
            "5\n",
            "6\n",
            "7\n",
            "it's done\n"
          ]
        }
      ]
    },
    {
      "cell_type": "code",
      "source": [
        "#example\n",
        "#check whether the given number is even or odd\n",
        "for i in range(0,8):\n",
        "  if i%2==0:\n",
        "    print(i,\"is even\")\n",
        "  else:\n",
        "    print(i,\"is odd\")"
      ],
      "metadata": {
        "colab": {
          "base_uri": "https://localhost:8080/"
        },
        "id": "--ZsZdinfgXJ",
        "outputId": "1423e5d2-4885-4db5-cc9a-c91274c9ef2b"
      },
      "execution_count": 48,
      "outputs": [
        {
          "output_type": "stream",
          "name": "stdout",
          "text": [
            "0 is even\n",
            "1 is odd\n",
            "2 is even\n",
            "3 is odd\n",
            "4 is even\n",
            "5 is odd\n",
            "6 is even\n",
            "7 is odd\n"
          ]
        }
      ]
    },
    {
      "cell_type": "code",
      "source": [
        "#example for multiplication table\n",
        "n = int(input(\"enter the number:\"))\n",
        "for i in range(1,11):\n",
        "  print(n,\"*\",i,\"=\",n*i)"
      ],
      "metadata": {
        "colab": {
          "base_uri": "https://localhost:8080/"
        },
        "id": "UBzLg25LgSRg",
        "outputId": "95f8332b-e2a5-46f9-d355-97c57df0f188"
      },
      "execution_count": 20,
      "outputs": [
        {
          "output_type": "stream",
          "name": "stdout",
          "text": [
            "enter the number:18\n",
            "18 * 1 = 18\n",
            "18 * 2 = 36\n",
            "18 * 3 = 54\n",
            "18 * 4 = 72\n",
            "18 * 5 = 90\n",
            "18 * 6 = 108\n",
            "18 * 7 = 126\n",
            "18 * 8 = 144\n",
            "18 * 9 = 162\n",
            "18 * 10 = 180\n"
          ]
        }
      ]
    },
    {
      "cell_type": "markdown",
      "source": [
        "# **2.while Loop:**\n",
        "\n",
        "Used when you want to repeat a block of code as long as a condition is true.\n",
        "\n"
      ],
      "metadata": {
        "id": "IROAHYichani"
      }
    },
    {
      "cell_type": "code",
      "source": [
        "while condition:\n",
        "    # code block\n"
      ],
      "metadata": {
        "id": "SF8_t5GsjEkR"
      },
      "execution_count": null,
      "outputs": []
    },
    {
      "cell_type": "markdown",
      "source": [
        "🔸 If the condition is True, the loop runs.\n",
        "\n",
        "🔸 If the condition is False, the loop stops."
      ],
      "metadata": {
        "id": "sup3DuhQjqXO"
      }
    },
    {
      "cell_type": "code",
      "source": [
        "#example\n",
        "i = 0\n",
        "while i <= 3:\n",
        "    print(i)\n",
        "    i = i+1\n",
        ""
      ],
      "metadata": {
        "colab": {
          "base_uri": "https://localhost:8080/"
        },
        "id": "tIg2Mbguj1pX",
        "outputId": "25d5bd18-0342-4848-98ca-a9a720eb4db1"
      },
      "execution_count": 51,
      "outputs": [
        {
          "output_type": "stream",
          "name": "stdout",
          "text": [
            "0\n",
            "1\n",
            "2\n",
            "3\n"
          ]
        }
      ]
    },
    {
      "cell_type": "code",
      "source": [
        "x = [8,9,10,11,12]\n",
        "i = 0\n",
        "while i < len(x):\n",
        "    print(x[i])\n",
        "    i += 1"
      ],
      "metadata": {
        "colab": {
          "base_uri": "https://localhost:8080/"
        },
        "id": "VJT2OmuZWzH8",
        "outputId": "7f2772c1-b743-4e9a-ab10-c0717693b87e"
      },
      "execution_count": 3,
      "outputs": [
        {
          "output_type": "stream",
          "name": "stdout",
          "text": [
            "8\n",
            "9\n",
            "10\n",
            "11\n",
            "12\n"
          ]
        }
      ]
    },
    {
      "cell_type": "code",
      "source": [
        "#example\n",
        "i = 5\n",
        "while i > 0:\n",
        "    print(i)\n",
        "    i -= 1\n"
      ],
      "metadata": {
        "colab": {
          "base_uri": "https://localhost:8080/"
        },
        "id": "u_cAlCmElMaq",
        "outputId": "b5d78762-44a6-4fc1-ad79-21b391d3075c"
      },
      "execution_count": 27,
      "outputs": [
        {
          "output_type": "stream",
          "name": "stdout",
          "text": [
            "5\n",
            "4\n",
            "3\n",
            "2\n",
            "1\n"
          ]
        }
      ]
    },
    {
      "cell_type": "code",
      "source": [
        "#example\n",
        "i = 1\n",
        "while i<7:\n",
        "  print(\"*\" * i)\n",
        "  i = i + 1"
      ],
      "metadata": {
        "colab": {
          "base_uri": "https://localhost:8080/"
        },
        "id": "ZJ1_qFm5mAi0",
        "outputId": "5bdd1ed5-cacb-4b46-abc7-839a435bff39"
      },
      "execution_count": 34,
      "outputs": [
        {
          "output_type": "stream",
          "name": "stdout",
          "text": [
            "*\n",
            "**\n",
            "***\n",
            "****\n",
            "*****\n",
            "******\n"
          ]
        }
      ]
    },
    {
      "cell_type": "markdown",
      "source": [
        "# **3. Loop Control Statements**"
      ],
      "metadata": {
        "id": "vGdsFeYNut1U"
      }
    },
    {
      "cell_type": "markdown",
      "source": [
        "**1. break :**\n",
        "\n",
        "Stop the loop immediately\n",
        "Used to exit a loop when a certain condition is met."
      ],
      "metadata": {
        "id": "05KsGVbBnKjz"
      }
    },
    {
      "cell_type": "code",
      "source": [
        "for i in range(1, 7):\n",
        "    if i == 5:\n",
        "        break\n",
        "    print(i)\n"
      ],
      "metadata": {
        "colab": {
          "base_uri": "https://localhost:8080/"
        },
        "id": "XbcE89O3ndyf",
        "outputId": "28ad6f5e-9658-4b09-a17f-7ee45c0e2626"
      },
      "execution_count": 39,
      "outputs": [
        {
          "output_type": "stream",
          "name": "stdout",
          "text": [
            "1\n",
            "2\n",
            "3\n",
            "4\n"
          ]
        }
      ]
    },
    {
      "cell_type": "markdown",
      "source": [
        "**2. continue :**\n",
        "\n",
        "Used to skip the current loop step and continue with the next iteration."
      ],
      "metadata": {
        "id": "xwRYp2ypnv9Y"
      }
    },
    {
      "cell_type": "code",
      "source": [
        "for i in range(1, 6):\n",
        "    if i == 3:\n",
        "        continue\n",
        "    print(i)\n"
      ],
      "metadata": {
        "colab": {
          "base_uri": "https://localhost:8080/"
        },
        "id": "R_XKrUKCotsp",
        "outputId": "e45a5d38-b2bb-4e16-cebc-d6c221542c6c"
      },
      "execution_count": 40,
      "outputs": [
        {
          "output_type": "stream",
          "name": "stdout",
          "text": [
            "1\n",
            "2\n",
            "4\n",
            "5\n"
          ]
        }
      ]
    },
    {
      "cell_type": "markdown",
      "source": [
        "**3. pass :**\n",
        "\n",
        "Used when a statement is syntactically required but no action is needed."
      ],
      "metadata": {
        "id": "1jyNIvF5o3nJ"
      }
    },
    {
      "cell_type": "code",
      "source": [
        "for i in range(1, 4):\n",
        "    if i == 2:\n",
        "        pass\n",
        "    print(i)\n"
      ],
      "metadata": {
        "id": "X8PXlHIlpQYm"
      },
      "execution_count": null,
      "outputs": []
    },
    {
      "cell_type": "markdown",
      "source": [
        "# **4.Loop with else :**\n",
        "\n",
        "\n",
        "Executed only if loop completes without break\n"
      ],
      "metadata": {
        "id": "5E92FZtvpV6L"
      }
    },
    {
      "cell_type": "code",
      "source": [
        "#without break\n",
        "for i in range(3):\n",
        "    print(\"Number:\", i)\n",
        "else:\n",
        "    print(\"Loop finished without break\")\n"
      ],
      "metadata": {
        "colab": {
          "base_uri": "https://localhost:8080/"
        },
        "id": "pdpqYEESrW_I",
        "outputId": "6accf3cb-fc7a-47e7-fe4b-0a39e33d66bb"
      },
      "execution_count": 41,
      "outputs": [
        {
          "output_type": "stream",
          "name": "stdout",
          "text": [
            "Number: 0\n",
            "Number: 1\n",
            "Number: 2\n",
            "Loop finished without break\n"
          ]
        }
      ]
    },
    {
      "cell_type": "code",
      "source": [
        "# for loop with break\n",
        "for i in range(5):\n",
        "    print(\"Checking:\", i)\n",
        "    if i == 2:\n",
        "        break\n",
        "else:\n",
        "    print(\"No break used\")\n"
      ],
      "metadata": {
        "colab": {
          "base_uri": "https://localhost:8080/"
        },
        "id": "vofV9UMcriUi",
        "outputId": "87d9ec84-4079-4aa0-9e67-ebaef51b3d84"
      },
      "execution_count": 42,
      "outputs": [
        {
          "output_type": "stream",
          "name": "stdout",
          "text": [
            "Checking: 0\n",
            "Checking: 1\n",
            "Checking: 2\n"
          ]
        }
      ]
    },
    {
      "cell_type": "markdown",
      "source": [
        "#  **5.Nested Loops** :\n",
        "\n",
        "A nested loop is a loop inside another loop.\n",
        "\n",
        "The outer loop runs first.\n",
        "\n",
        "For each iteration of the outer loop, the inner loop runs completely.\n",
        "\n"
      ],
      "metadata": {
        "id": "42xNDC6XtK4g"
      }
    },
    {
      "cell_type": "code",
      "source": [
        "#example\n",
        "for i in range(1, 4):\n",
        "    for j in range(1, 4):\n",
        "        print(i, j)"
      ],
      "metadata": {
        "colab": {
          "base_uri": "https://localhost:8080/"
        },
        "id": "-z0kJ_NetXd_",
        "outputId": "b79f2129-2169-4ce5-fa80-39e751b6afe6"
      },
      "execution_count": 44,
      "outputs": [
        {
          "output_type": "stream",
          "name": "stdout",
          "text": [
            "1 1\n",
            "1 2\n",
            "1 3\n",
            "2 1\n",
            "2 2\n",
            "2 3\n",
            "3 1\n",
            "3 2\n",
            "3 3\n"
          ]
        }
      ]
    },
    {
      "cell_type": "code",
      "source": [
        "# pyramid example\n",
        "rows = 5\n",
        "for i in range(1, rows + 1):\n",
        "    # Print spaces\n",
        "    for space in range(rows - i):\n",
        "        print(\" \", end=\" \")\n",
        "    # Print stars\n",
        "    for star in range(2*i - 1):\n",
        "        print(\"*\", end=\" \")\n",
        "    print()\n"
      ],
      "metadata": {
        "colab": {
          "base_uri": "https://localhost:8080/"
        },
        "id": "FGVuY4oxuFPB",
        "outputId": "14658e4e-4058-4f28-e252-c341ee2cb863"
      },
      "execution_count": 45,
      "outputs": [
        {
          "output_type": "stream",
          "name": "stdout",
          "text": [
            "        * \n",
            "      * * * \n",
            "    * * * * * \n",
            "  * * * * * * * \n",
            "* * * * * * * * * \n"
          ]
        }
      ]
    },
    {
      "cell_type": "markdown",
      "source": [
        "# **Functions**\n"
      ],
      "metadata": {
        "id": "DHfjylxAWiK4"
      }
    },
    {
      "cell_type": "markdown",
      "source": [
        "A function is a block of code which only runs when it is called.\n"
      ],
      "metadata": {
        "id": "E_ecdnQ_WvhQ"
      }
    },
    {
      "cell_type": "markdown",
      "source": [
        "**1. Defining and Calling Functions**"
      ],
      "metadata": {
        "id": "9LospqlqXsf1"
      }
    },
    {
      "cell_type": "markdown",
      "source": [
        "**Using def Keyword :**\n",
        "\n",
        "A function lets you group code into reusable blocks.\n",
        "\n",
        "\n"
      ],
      "metadata": {
        "id": "9-hudgQrYFwu"
      }
    },
    {
      "cell_type": "code",
      "source": [
        "def greet():\n",
        "    print(\"its is a great day to learn python!\")\n",
        "\n",
        "greet()  # Calling the function"
      ],
      "metadata": {
        "colab": {
          "base_uri": "https://localhost:8080/"
        },
        "id": "HrtnGMwAYZN5",
        "outputId": "77f86f43-8311-447c-cd56-6ac6a0490ca2"
      },
      "execution_count": 3,
      "outputs": [
        {
          "output_type": "stream",
          "name": "stdout",
          "text": [
            "its is a great day to learn python!\n"
          ]
        }
      ]
    },
    {
      "cell_type": "code",
      "source": [
        "def add_sub():\n",
        "    a = 18\n",
        "    b = 7\n",
        "    print(\"Sum:\", a + b ,\"sub:\" , a - b)\n",
        "\n",
        "add_sub()\n"
      ],
      "metadata": {
        "colab": {
          "base_uri": "https://localhost:8080/"
        },
        "id": "XFYW4e-VYzgl",
        "outputId": "ef9ec283-085f-4bb2-fc4e-9f928826a03e"
      },
      "execution_count": 15,
      "outputs": [
        {
          "output_type": "stream",
          "name": "stdout",
          "text": [
            "Sum: 25 sub: 11\n"
          ]
        }
      ]
    },
    {
      "cell_type": "markdown",
      "source": [
        "**Using return :**\n",
        "\n",
        "return sends back a result from the function."
      ],
      "metadata": {
        "id": "15vHo-dsZ_ad"
      }
    },
    {
      "cell_type": "code",
      "source": [
        "def square(x):\n",
        "    return x * x\n",
        "\n",
        "result = square(4)\n",
        "print(\"Square is:\", result)\n"
      ],
      "metadata": {
        "colab": {
          "base_uri": "https://localhost:8080/"
        },
        "id": "pEUhU8UmaNLD",
        "outputId": "e221c06d-9fd1-4474-b18b-59f615be3120"
      },
      "execution_count": 16,
      "outputs": [
        {
          "output_type": "stream",
          "name": "stdout",
          "text": [
            "Square is: 16\n"
          ]
        }
      ]
    },
    {
      "cell_type": "code",
      "source": [
        "def welcome(name):\n",
        "    return f\"Welcome, {name}!\"\n",
        "\n",
        "print(welcome(\"Sanju\"))\n"
      ],
      "metadata": {
        "colab": {
          "base_uri": "https://localhost:8080/"
        },
        "id": "U9We-64hae-X",
        "outputId": "cfb5bdec-8495-40eb-92e0-52ae592996ca"
      },
      "execution_count": 17,
      "outputs": [
        {
          "output_type": "stream",
          "name": "stdout",
          "text": [
            "Welcome, Sanju!\n"
          ]
        }
      ]
    },
    {
      "cell_type": "markdown",
      "source": [
        "**2. Function Arguments :**\n"
      ],
      "metadata": {
        "id": "aXJEBkddbE9T"
      }
    },
    {
      "cell_type": "markdown",
      "source": [
        "**Positional Arguments:**  Order matters.\n"
      ],
      "metadata": {
        "id": "z2HVODQgb0YP"
      }
    },
    {
      "cell_type": "code",
      "source": [
        "def subtract(a, b):\n",
        "    return a - b\n",
        "\n",
        "print(subtract(10, 3))"
      ],
      "metadata": {
        "colab": {
          "base_uri": "https://localhost:8080/"
        },
        "id": "SDE8FBb-cDXy",
        "outputId": "1bc23740-a1fc-489a-d251-0feb72ac07cb"
      },
      "execution_count": 18,
      "outputs": [
        {
          "output_type": "stream",
          "name": "stdout",
          "text": [
            "7\n"
          ]
        }
      ]
    },
    {
      "cell_type": "markdown",
      "source": [
        "**Default Arguments :**  Provide default values."
      ],
      "metadata": {
        "id": "RhHCB5bbcUCp"
      }
    },
    {
      "cell_type": "code",
      "source": [
        "def greet(name=\"Guest\"):\n",
        "    print(\"Hello\", name)\n",
        "\n",
        "greet()          # Hello Guest\n",
        "greet(\"Anu\")     # Hello Anu\n"
      ],
      "metadata": {
        "colab": {
          "base_uri": "https://localhost:8080/"
        },
        "id": "CLXVSByMcbuv",
        "outputId": "3d88eefb-c904-43d6-b755-13060ffbcba4"
      },
      "execution_count": 19,
      "outputs": [
        {
          "output_type": "stream",
          "name": "stdout",
          "text": [
            "Hello Guest\n",
            "Hello Anu\n"
          ]
        }
      ]
    },
    {
      "cell_type": "code",
      "source": [
        "def power(base, exponent=2):\n",
        "    return base ** exponent\n",
        "\n",
        "print(power(3))       # 9\n",
        "print(power(3, 3))    # 27\n"
      ],
      "metadata": {
        "colab": {
          "base_uri": "https://localhost:8080/"
        },
        "id": "zQRDKhQ_ciEZ",
        "outputId": "bf2d866a-f326-4660-d8ae-dd1f9f8dc215"
      },
      "execution_count": 21,
      "outputs": [
        {
          "output_type": "stream",
          "name": "stdout",
          "text": [
            "9\n",
            "27\n"
          ]
        }
      ]
    },
    {
      "cell_type": "markdown",
      "source": [
        "**Keyword Arguments**:  Specify using key=value\n"
      ],
      "metadata": {
        "id": "hC6X4oF2cphY"
      }
    },
    {
      "cell_type": "code",
      "source": [
        "def person(name, age):\n",
        "    print(f\"{name} is {age} years old.\")\n",
        "\n",
        "person(age=18, name=\"tej\")\n"
      ],
      "metadata": {
        "colab": {
          "base_uri": "https://localhost:8080/"
        },
        "id": "JhH7aAS5cylj",
        "outputId": "3ab260be-0b5e-49dd-8821-7cf524cf466b"
      },
      "execution_count": 24,
      "outputs": [
        {
          "output_type": "stream",
          "name": "stdout",
          "text": [
            "tej is 18 years old.\n"
          ]
        }
      ]
    },
    {
      "cell_type": "code",
      "source": [
        "def book(title, author):\n",
        "    print(f\"{title} by {author}\")\n",
        "\n",
        "book(author=\"Rajmouli\", title=\"virat kholi\")\n"
      ],
      "metadata": {
        "colab": {
          "base_uri": "https://localhost:8080/"
        },
        "id": "B7hVtgOrdAyZ",
        "outputId": "5fb694ad-6f9e-435b-acd3-25053152d00b"
      },
      "execution_count": 26,
      "outputs": [
        {
          "output_type": "stream",
          "name": "stdout",
          "text": [
            "virat kholi by Rajmouli\n"
          ]
        }
      ]
    },
    {
      "cell_type": "markdown",
      "source": [
        "**Args and kwargs**"
      ],
      "metadata": {
        "id": "Z03Tw0wQdZlt"
      }
    },
    {
      "cell_type": "markdown",
      "source": [
        "**args** : Multiple positional arguments"
      ],
      "metadata": {
        "id": "52evmPbhdxyi"
      }
    },
    {
      "cell_type": "code",
      "source": [
        "def total(*args):\n",
        "    print(\"Total is:\", sum(args))\n",
        "\n",
        "total(18, 10, 7, 10)\n"
      ],
      "metadata": {
        "colab": {
          "base_uri": "https://localhost:8080/"
        },
        "id": "EVYroK0Pd4xx",
        "outputId": "04a02f64-896c-4bdc-b2c5-02c627bf4226"
      },
      "execution_count": 29,
      "outputs": [
        {
          "output_type": "stream",
          "name": "stdout",
          "text": [
            "Total is: 45\n"
          ]
        }
      ]
    },
    {
      "cell_type": "code",
      "source": [
        "def print_names(*names):\n",
        "    for name in names:\n",
        "        print(\"Hello\", name)\n",
        "\n",
        "print_names(\"sanju\", \"charan\", \"suchi\")\n"
      ],
      "metadata": {
        "colab": {
          "base_uri": "https://localhost:8080/"
        },
        "id": "4zXjXH9zeJAi",
        "outputId": "a4d22964-207a-4744-f1d3-24107407aac8"
      },
      "execution_count": 30,
      "outputs": [
        {
          "output_type": "stream",
          "name": "stdout",
          "text": [
            "Hello sanju\n",
            "Hello charan\n",
            "Hello suchi\n"
          ]
        }
      ]
    },
    {
      "cell_type": "markdown",
      "source": [
        "**kwargs:**  Multiple keyword arguments"
      ],
      "metadata": {
        "id": "y1Eh63-HecLO"
      }
    },
    {
      "cell_type": "code",
      "source": [
        "def show_info(**kwargs):\n",
        "    for key, value in kwargs.items():\n",
        "        print(key, \":\", value)\n",
        "\n",
        "show_info(name=\"sana\", age=21, city=\"kakinada\")\n"
      ],
      "metadata": {
        "colab": {
          "base_uri": "https://localhost:8080/"
        },
        "id": "CZdodJumefu6",
        "outputId": "f846d60b-1e29-4c09-e166-9bebbacb9d1a"
      },
      "execution_count": 31,
      "outputs": [
        {
          "output_type": "stream",
          "name": "stdout",
          "text": [
            "name : sana\n",
            "age : 21\n",
            "city : kakinada\n"
          ]
        }
      ]
    },
    {
      "cell_type": "code",
      "source": [
        "def profile(**details):\n",
        "    print(\"Profile Data:\")\n",
        "    for k, v in details.items():\n",
        "        print(f\"{k} = {v}\")\n",
        "\n",
        "profile(name=\"Sanju\", job=\"Software Engineer\")\n"
      ],
      "metadata": {
        "colab": {
          "base_uri": "https://localhost:8080/"
        },
        "id": "nI0ibBIeeq_r",
        "outputId": "887521ba-cacb-4bef-cb11-e4c151f0b88f"
      },
      "execution_count": 32,
      "outputs": [
        {
          "output_type": "stream",
          "name": "stdout",
          "text": [
            "Profile Data:\n",
            "name = Sanju\n",
            "job = Software Engineer\n"
          ]
        }
      ]
    },
    {
      "cell_type": "markdown",
      "source": [
        "**3. Scope of Variables**"
      ],
      "metadata": {
        "id": "2IP4nKmye4YM"
      }
    },
    {
      "cell_type": "markdown",
      "source": [
        "🔹 Local vs Global"
      ],
      "metadata": {
        "id": "Oo3gQXj8e6pt"
      }
    },
    {
      "cell_type": "markdown",
      "source": [
        "**Local Variable :**\n",
        "\n",
        "A variable created inside a function belongs to the local scope of that function, and can only be used inside that function."
      ],
      "metadata": {
        "id": "zrE4EJKofAZa"
      }
    },
    {
      "cell_type": "code",
      "source": [
        "def show():\n",
        "    x = 5  # local to function\n",
        "    print(\"Inside:\", x)\n",
        "\n",
        "show()\n",
        "# print(x)\n"
      ],
      "metadata": {
        "colab": {
          "base_uri": "https://localhost:8080/"
        },
        "id": "zCxXJsXNfWYu",
        "outputId": "bcdcc926-f52c-4e80-f6e1-81115960c834"
      },
      "execution_count": 34,
      "outputs": [
        {
          "output_type": "stream",
          "name": "stdout",
          "text": [
            "Inside: 5\n"
          ]
        }
      ]
    },
    {
      "cell_type": "markdown",
      "source": [
        "**Global Variable:**\n",
        "\n",
        "A variable created in the main body of the Python code is a global variable and belongs to the global scope.\n"
      ],
      "metadata": {
        "id": "_dhiqF9wfg6s"
      }
    },
    {
      "cell_type": "code",
      "source": [
        "x = 10\n",
        "\n",
        "def display():\n",
        "    print(\"Global x:\", x)\n",
        "\n",
        "display()\n"
      ],
      "metadata": {
        "colab": {
          "base_uri": "https://localhost:8080/"
        },
        "id": "72uPs9P0f0Nf",
        "outputId": "629f1a6c-7dc1-446a-fdcd-2bc4e956e445"
      },
      "execution_count": 35,
      "outputs": [
        {
          "output_type": "stream",
          "name": "stdout",
          "text": [
            "Global x: 10\n"
          ]
        }
      ]
    },
    {
      "cell_type": "markdown",
      "source": [
        "**Global Keyword :**\n",
        "\n",
        "The global keyword makes the variable global."
      ],
      "metadata": {
        "id": "4LCjSaqvgBsR"
      }
    },
    {
      "cell_type": "code",
      "source": [
        "count = 0\n",
        "\n",
        "def update():\n",
        "    global count\n",
        "    count += 1\n",
        "    print(\"Updated count:\", count)\n",
        "\n",
        "update()\n",
        "update()\n"
      ],
      "metadata": {
        "colab": {
          "base_uri": "https://localhost:8080/"
        },
        "id": "nuaZ7AIhgcmc",
        "outputId": "4621da1d-e58d-4311-ecbe-a361e22d923a"
      },
      "execution_count": 36,
      "outputs": [
        {
          "output_type": "stream",
          "name": "stdout",
          "text": [
            "Updated count: 1\n",
            "Updated count: 2\n"
          ]
        }
      ]
    },
    {
      "cell_type": "markdown",
      "source": [
        "**4. Lambda Functions:**\n",
        "\n",
        "Anonymous one-line function. Syntax: lambda arguments: expression\n",
        "\n"
      ],
      "metadata": {
        "id": "0aVgFkqegmlg"
      }
    },
    {
      "cell_type": "code",
      "source": [
        "square = lambda x: x * x\n",
        "print(square(6))\n"
      ],
      "metadata": {
        "colab": {
          "base_uri": "https://localhost:8080/"
        },
        "id": "M3SXQGE3g0Lp",
        "outputId": "ee734e05-11a1-48d0-a249-ce3838d06e61"
      },
      "execution_count": 38,
      "outputs": [
        {
          "output_type": "stream",
          "name": "stdout",
          "text": [
            "36\n"
          ]
        }
      ]
    },
    {
      "cell_type": "code",
      "source": [
        "greet = lambda name: \"Hi \" + name\n",
        "print(greet(\"Anushka sharma\"))\n"
      ],
      "metadata": {
        "colab": {
          "base_uri": "https://localhost:8080/"
        },
        "id": "lx3PQAvlg39W",
        "outputId": "556c07c9-0ab8-4471-c3dc-1a62aef9680c"
      },
      "execution_count": 39,
      "outputs": [
        {
          "output_type": "stream",
          "name": "stdout",
          "text": [
            "Hi Anushka sharma\n"
          ]
        }
      ]
    },
    {
      "cell_type": "markdown",
      "source": [
        "**🔹 Usage with map()**"
      ],
      "metadata": {
        "id": "29_Byse6hKqb"
      }
    },
    {
      "cell_type": "code",
      "source": [
        "nums = [1, 2, 3, 4,18]\n",
        "squares = list(map(lambda x: x * x, nums))\n",
        "print(squares)\n"
      ],
      "metadata": {
        "colab": {
          "base_uri": "https://localhost:8080/"
        },
        "id": "7xB1IxfUhNLt",
        "outputId": "f58be087-b2e2-4a58-f60f-2eb4fe1539a6"
      },
      "execution_count": 41,
      "outputs": [
        {
          "output_type": "stream",
          "name": "stdout",
          "text": [
            "[1, 4, 9, 16, 324]\n"
          ]
        }
      ]
    },
    {
      "cell_type": "markdown",
      "source": [
        "**🔹 Usage with filter()**"
      ],
      "metadata": {
        "id": "DtDx_C2IhZMg"
      }
    },
    {
      "cell_type": "code",
      "source": [
        "nums = [1, 2, 3, 4, 5, 6, 18, 7, 10]\n",
        "even = list(filter(lambda x: x % 2 == 0, nums))\n",
        "print(even)\n"
      ],
      "metadata": {
        "colab": {
          "base_uri": "https://localhost:8080/"
        },
        "id": "mHVB3v4shgue",
        "outputId": "9a6e9b3c-e361-4d4a-ab4c-5685d7642ae1"
      },
      "execution_count": 42,
      "outputs": [
        {
          "output_type": "stream",
          "name": "stdout",
          "text": [
            "[2, 4, 6, 18, 10]\n"
          ]
        }
      ]
    }
  ]
}