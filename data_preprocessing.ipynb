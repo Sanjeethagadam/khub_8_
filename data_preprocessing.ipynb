{
  "nbformat": 4,
  "nbformat_minor": 0,
  "metadata": {
    "colab": {
      "provenance": [],
      "authorship_tag": "ABX9TyMhBgJi5nTo5aUuqBSldvjy",
      "include_colab_link": true
    },
    "kernelspec": {
      "name": "python3",
      "display_name": "Python 3"
    },
    "language_info": {
      "name": "python"
    }
  },
  "cells": [
    {
      "cell_type": "markdown",
      "metadata": {
        "id": "view-in-github",
        "colab_type": "text"
      },
      "source": [
        "<a href=\"https://colab.research.google.com/github/Sanjeethagadam/khub_Daily_Tasks/blob/main/data_preprocessing.ipynb\" target=\"_parent\"><img src=\"https://colab.research.google.com/assets/colab-badge.svg\" alt=\"Open In Colab\"/></a>"
      ]
    },
    {
      "cell_type": "markdown",
      "source": [
        "**Importing the Libraries**"
      ],
      "metadata": {
        "id": "oQeMUXjztMGm"
      }
    },
    {
      "cell_type": "code",
      "execution_count": null,
      "metadata": {
        "id": "Se029fgAnKNH"
      },
      "outputs": [],
      "source": [
        "import numpy as np\n",
        "import pandas as pd\n",
        "from sklearn.model_selection import train_test_split\n",
        "from sklearn.impute import SimpleImputer\n",
        "from sklearn.preprocessing import OneHotEncoder, LabelEncoder, StandardScaler\n",
        "from sklearn.compose import ColumnTransformer\n"
      ]
    },
    {
      "cell_type": "markdown",
      "source": [
        "**Importing the Dataset**"
      ],
      "metadata": {
        "id": "aDYgHrSqtocL"
      }
    },
    {
      "cell_type": "code",
      "source": [
        "dataset = pd.read_csv(\"Data2.csv\")\n",
        "print(dataset.head())\n"
      ],
      "metadata": {
        "colab": {
          "base_uri": "https://localhost:8080/"
        },
        "id": "0Qo1FsYatrAQ",
        "outputId": "8edda84e-807a-443f-8f75-810d7bd0f50e"
      },
      "execution_count": null,
      "outputs": [
        {
          "output_type": "stream",
          "name": "stdout",
          "text": [
            "  Country   Age   Salary Purchased\n",
            "0      UK  34.0  41475.0        No\n",
            "1   Spain  31.0      NaN        No\n",
            "2   Italy  32.0  34889.0       Yes\n",
            "3   Italy  19.0  38480.0        No\n",
            "4      UK  48.0  50489.0       Yes\n"
          ]
        }
      ]
    },
    {
      "cell_type": "code",
      "source": [
        "print(dataset.tail())"
      ],
      "metadata": {
        "colab": {
          "base_uri": "https://localhost:8080/"
        },
        "id": "xjfWnl-kEMjO",
        "outputId": "40c43224-6180-4fe3-d879-f96ff1c57253"
      },
      "execution_count": null,
      "outputs": [
        {
          "output_type": "stream",
          "name": "stdout",
          "text": [
            "    Country   Age    Salary Purchased\n",
            "995  France  34.0   28778.0       Yes\n",
            "996   Italy  28.0  112448.0        No\n",
            "997  France  19.0   42729.0        No\n",
            "998      UK   NaN   82260.0       Yes\n",
            "999   Spain   NaN   59152.0       Yes\n"
          ]
        }
      ]
    },
    {
      "cell_type": "code",
      "source": [
        "print(dataset.info())"
      ],
      "metadata": {
        "colab": {
          "base_uri": "https://localhost:8080/"
        },
        "id": "m8ne2HUZEVT6",
        "outputId": "9437952f-a622-4eb4-aa26-9440289ea348"
      },
      "execution_count": null,
      "outputs": [
        {
          "output_type": "stream",
          "name": "stdout",
          "text": [
            "<class 'pandas.core.frame.DataFrame'>\n",
            "RangeIndex: 1000 entries, 0 to 999\n",
            "Data columns (total 4 columns):\n",
            " #   Column     Non-Null Count  Dtype  \n",
            "---  ------     --------------  -----  \n",
            " 0   Country    1000 non-null   object \n",
            " 1   Age        850 non-null    float64\n",
            " 2   Salary     850 non-null    float64\n",
            " 3   Purchased  1000 non-null   object \n",
            "dtypes: float64(2), object(2)\n",
            "memory usage: 31.4+ KB\n",
            "None\n"
          ]
        }
      ]
    },
    {
      "cell_type": "code",
      "source": [
        "print(dataset.shape)"
      ],
      "metadata": {
        "colab": {
          "base_uri": "https://localhost:8080/"
        },
        "id": "gRyhqin_Ecde",
        "outputId": "a9bfad18-a58a-45fb-892a-d64cbd2c7924"
      },
      "execution_count": null,
      "outputs": [
        {
          "output_type": "stream",
          "name": "stdout",
          "text": [
            "(1000, 4)\n"
          ]
        }
      ]
    },
    {
      "cell_type": "code",
      "source": [
        "print(dataset.isnull())"
      ],
      "metadata": {
        "id": "OIuI_cx-EvOi"
      },
      "execution_count": null,
      "outputs": []
    },
    {
      "cell_type": "markdown",
      "source": [
        "**Taking Care of Missing Data**"
      ],
      "metadata": {
        "id": "kdpLg5h_tvks"
      }
    },
    {
      "cell_type": "code",
      "source": [
        "X = dataset.iloc[:, :-1].values\n",
        "y = dataset.iloc[:, -1].values\n",
        "\n",
        "imputer = SimpleImputer(missing_values=np.nan, strategy=\"median\")\n",
        "X[:, 1:3] = imputer.fit_transform(X[:, 1:3])"
      ],
      "metadata": {
        "id": "2a56NaFft0dF"
      },
      "execution_count": null,
      "outputs": []
    },
    {
      "cell_type": "markdown",
      "source": [
        "**Encoding Categorical Data**"
      ],
      "metadata": {
        "id": "t2Wsji72uEbx"
      }
    },
    {
      "cell_type": "code",
      "source": [
        "ct = ColumnTransformer(\n",
        "    transformers=[('encoder', OneHotEncoder(), [0])],\n",
        "    remainder='passthrough'\n",
        ")\n",
        "X = np.array(ct.fit_transform(X))\n"
      ],
      "metadata": {
        "id": "ddNJix3WuX9B"
      },
      "execution_count": null,
      "outputs": []
    },
    {
      "cell_type": "markdown",
      "source": [
        "**Encoding the Dependent Variable**"
      ],
      "metadata": {
        "id": "jo7m1ZM2uc8n"
      }
    },
    {
      "cell_type": "code",
      "source": [
        "le = LabelEncoder()\n",
        "y = le.fit_transform(y)\n",
        "\n"
      ],
      "metadata": {
        "id": "FtkIOyxNui9K"
      },
      "execution_count": null,
      "outputs": []
    },
    {
      "cell_type": "markdown",
      "source": [
        "**Splitting the Dataset**"
      ],
      "metadata": {
        "id": "vqXfQCqwuny8"
      }
    },
    {
      "cell_type": "code",
      "source": [
        "X_train, X_test, y_train, y_test = train_test_split(\n",
        "    X, y, test_size=0.2, random_state=42\n",
        ")\n"
      ],
      "metadata": {
        "id": "uFup7Igiuth2"
      },
      "execution_count": null,
      "outputs": []
    },
    {
      "cell_type": "code",
      "source": [
        "print(\"X_train shape:\", X_train.shape)\n",
        "print(\"X_test shape:\", X_test.shape)\n",
        "print(\"y_train shape:\", y_train.shape)\n",
        "print(\"y_test shape:\", y_test.shape)\n",
        "\n",
        "print(\"\\nFirst 5 rows of X_train:\")\n",
        "print(X_train[:5])\n",
        "\n",
        "print(\"\\nFirst 5 rows of y_train:\")\n",
        "print(y_train[:5])"
      ],
      "metadata": {
        "colab": {
          "base_uri": "https://localhost:8080/"
        },
        "id": "qA8r1r-cGgMr",
        "outputId": "9f136676-2803-44ef-fc3f-21c7476febaa"
      },
      "execution_count": null,
      "outputs": [
        {
          "output_type": "stream",
          "name": "stdout",
          "text": [
            "X_train shape: (800, 7)\n",
            "X_test shape: (200, 7)\n",
            "y_train shape: (800,)\n",
            "y_test shape: (200,)\n",
            "\n",
            "First 5 rows of X_train:\n",
            "[[0.0 0.0 0.0 1.9395630337539373 -0.5097475058154189 -1.2311810694365617\n",
            "  -1.2712871974192919]\n",
            " [0.0 0.0 1.0 -0.5155800469472491 -0.5097475058154189 -1.4059406250698565\n",
            "  -0.12802209055229258]\n",
            " [0.0 0.0 0.0 1.9395630337539373 -0.5097475058154189 -0.6195226247200302\n",
            "  -0.8086351549333807]\n",
            " [1.0 0.0 0.0 -0.5155800469472491 -0.5097475058154189 0.8659335981629751\n",
            "  0.8077547096085956]\n",
            " [0.0 0.0 0.0 1.9395630337539373 -0.5097475058154189 0.9533133759796225\n",
            "  -1.3564678014660974]]\n",
            "\n",
            "First 5 rows of y_train:\n",
            "[0 0 1 0 0]\n"
          ]
        }
      ]
    },
    {
      "cell_type": "markdown",
      "source": [
        "**Feature Scaling**"
      ],
      "metadata": {
        "id": "ByIyX33ju0AC"
      }
    },
    {
      "cell_type": "code",
      "source": [
        "sc = StandardScaler()\n",
        "X_train[:, 3:] = sc.fit_transform(X_train[:, 3:])  # only scale numerical features\n",
        "X_test[:, 3:] = sc.transform(X_test[:, 3:])\n"
      ],
      "metadata": {
        "id": "6WOjiwZdu5wB"
      },
      "execution_count": null,
      "outputs": []
    }
  ]
}